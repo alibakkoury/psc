{
 "cells": [
  {
   "cell_type": "code",
   "execution_count": 759,
   "metadata": {},
   "outputs": [],
   "source": [
    "import os \n",
    "import cv2\n",
    "import numpy as np\n",
    "\n",
    "import matplotlib.pyplot as plt"
   ]
  },
  {
   "cell_type": "code",
   "execution_count": 760,
   "metadata": {},
   "outputs": [
    {
     "data": {
      "image/png": "[encoded data removed]",
      "text/plain": [
       "<Figure size 432x288 with 1 Axes>"
      ]
     },
     "metadata": {
      "needs_background": "light"
     },
     "output_type": "display_data"
    }
   ],
   "source": [
    "path_cloth = 'Documents/X/PSC/Test/cloth4.jpg'\n",
    "\n",
    "path_parse = 'Documents/X/PSC/Test/image4.png'\n",
    "\n",
    "cloth_img = np.array(cv2.imread(path_cloth))\n",
    "\n",
    "parse_img = np.array(cv2.imread(path_parse))\n",
    "\n",
    "parse_img = parse_img[40:256][15:180]\n",
    "\n",
    "parse_img = cv2.resize(parse_img , (192,256))\n",
    "\n",
    "plt.imshow(parse_img)\n",
    "\n",
    "\n",
    "code_shirt = [0, 85, 254]\n",
    "code_gauche = [254, 254 , 0]\n",
    "code_droit = [220 , 169 , 51]\n",
    "code_blanc = [255, 255, 255]\n",
    "code_noir = np.array([0 , 0 , 0])"
   ]
  },
  {
   "cell_type": "code",
   "execution_count": 761,
   "metadata": {},
   "outputs": [],
   "source": [
    "def equals(t,q):\n",
    "    return (t==q).all()"
   ]
  },
  {
   "cell_type": "code",
   "execution_count": 762,
   "metadata": {},
   "outputs": [],
   "source": [
    "def get_index_i(image):\n",
    "    imin = image.shape[0]-1\n",
    "    jmil = int(image.shape[1]/2)\n",
    "    \n",
    "    while not ((image[imin][jmil] == code_shirt).all()):\n",
    "        imin-=1\n",
    "    \n",
    "    jmin = image.shape[1]-1\n",
    "    iref = int(image.shape[0]/2)\n",
    "    \n",
    "    while not ((image[iref][jmin] == code_shirt).all()):\n",
    "        jmin-=1\n",
    "        \n",
    "    jmax = 0\n",
    "    \n",
    "    while not ((image[iref][jmax] == code_shirt).all()): \n",
    "        jmax+=1\n",
    "        \n",
    "    return imin , jmin , jmax\n",
    "    \n",
    "    \n",
    "    "
   ]
  },
  {
   "cell_type": "code",
   "execution_count": 763,
   "metadata": {},
   "outputs": [
    {
     "name": "stdout",
     "output_type": "stream",
     "text": [
      "(255, 139, 53)\n"
     ]
    }
   ],
   "source": [
    "print(get_index_i(parse_img))"
   ]
  },
  {
   "cell_type": "code",
   "execution_count": 764,
   "metadata": {},
   "outputs": [],
   "source": [
    "def get_index_c(cloth):\n",
    "    imin = cloth.shape[0]-1\n",
    "    jmil = int(cloth.shape[1]/2)\n",
    "    \n",
    "    while ((cloth[imin][jmil] == code_blanc).all()):\n",
    "        imin-=1\n",
    "    \n",
    "    jmin = cloth.shape[1]-1\n",
    "    iref = imin - 10\n",
    "    \n",
    "    while ((cloth[iref][jmin] == code_blanc).all()):\n",
    "        jmin-=1\n",
    "        \n",
    "    jmax = 0\n",
    "    \n",
    "    while ((cloth[iref][jmax] == code_blanc).all()): \n",
    "        jmax+=1\n",
    "        \n",
    "    return imin , jmin , jmax\n",
    "    "
   ]
  },
  {
   "cell_type": "code",
   "execution_count": 765,
   "metadata": {},
   "outputs": [
    {
     "name": "stdout",
     "output_type": "stream",
     "text": [
      "(254, 159, 31)\n"
     ]
    }
   ],
   "source": [
    "print(get_index_c(cloth_img))"
   ]
  },
  {
   "cell_type": "code",
   "execution_count": 766,
   "metadata": {},
   "outputs": [],
   "source": [
    "def get_scale(image, cloth):\n",
    "    jmin_i , jmax_i = get_index_i(image)[1:]\n",
    "    jmin_c , jmax_c = get_index_c(cloth)[1:]\n",
    "    \n",
    "    return (jmax_i-jmin_i)/(jmax_c-jmin_c)"
   ]
  },
  {
   "cell_type": "code",
   "execution_count": 767,
   "metadata": {},
   "outputs": [],
   "source": [
    "def get_value_naive(img, x, y) : \n",
    "    (n,m,p) = img.shape\n",
    "    if (int(x) < 0 or int(x) >= n or int(y) < 0 or int(y) >= m):\n",
    "        return 0\n",
    "    return img[int(x), int(y)]"
   ]
  },
  {
   "cell_type": "code",
   "execution_count": 768,
   "metadata": {},
   "outputs": [],
   "source": [
    "def rescale_naive(image, cloth) : \n",
    "    scale = get_scale(image,cloth)\n",
    "    h_new = int(256/scale)\n",
    "    w_new = int(192/scale)\n",
    "    p = 3\n",
    "    copy = np.ndarray((h_new,w_new,p))\n",
    "    for i in range(h_new):\n",
    "        for j in range(w_new): \n",
    "            copy[i,j] = get_value_naive(image,i*scale,j*scale)\n",
    "    return copy"
   ]
  },
  {
   "cell_type": "code",
   "execution_count": 769,
   "metadata": {},
   "outputs": [],
   "source": [
    "#img = rescale_naive(parse_img , cloth_img)\n",
    "#plt.imshow(img)"
   ]
  },
  {
   "cell_type": "code",
   "execution_count": 770,
   "metadata": {},
   "outputs": [],
   "source": [
    "def translation(image, cloth):\n",
    "    rescaled = rescale_naive(image,cloth)\n",
    "    copy = np.ndarray((256,192,3))\n",
    "    h_new, w_new, p = rescaled.shape\n",
    "    imin_r , jmin_r = get_index_i(rescaled)[:2]\n",
    "    imin_c , jmin_c = get_index_c(cloth)[:2]\n",
    "    diff_i = imin_r - imin_c\n",
    "    diff_j = jmin_r - jmin_c\n",
    "    for i in range(256-diff_i):\n",
    "        for j in range(192-diff_j): \n",
    "            copy[i][j] = rescaled[i+diff_i][j+diff_j]\n",
    "    return (copy)"
   ]
  },
  {
   "cell_type": "code",
   "execution_count": 771,
   "metadata": {},
   "outputs": [],
   "source": [
    "#res = translation(parse_img , cloth_img)\n",
    "#plt.imshow(res)"
   ]
  },
  {
   "cell_type": "code",
   "execution_count": 772,
   "metadata": {},
   "outputs": [],
   "source": [
    "def blank(image , cloth):\n",
    "    imin_i , jmin_i, jmax_i = get_index_i(image)\n",
    "    imin_c , jmin_c , jmax_c = get_index_c(cloth)\n",
    "    \n",
    "    idiff = imin_i - imin_c\n",
    "    jdiff = jmin_i - jmin_c\n",
    "    \n",
    "    print(\"idiff\" , idiff)\n",
    "    print(\"jdiff\" , jdiff)\n",
    "    \n",
    "    for i in range(256-abs(idiff)):\n",
    "        for j in range(192-abs(jdiff)):\n",
    "            if ((image[i][j] == code_gauche).all() or (image[i][j] == code_droit).all()):\n",
    "                cloth[i+idiff][j+jdiff] = code_blanc\n",
    "                "
   ]
  },
  {
   "cell_type": "code",
   "execution_count": 773,
   "metadata": {},
   "outputs": [
    {
     "name": "stdout",
     "output_type": "stream",
     "text": [
      "idiff 1\n",
      "jdiff -20\n"
     ]
    }
   ],
   "source": [
    "blank(parse_img , cloth_img)"
   ]
  },
  {
   "cell_type": "code",
   "execution_count": 774,
   "metadata": {},
   "outputs": [
    {
     "data": {
      "text/plain": [
       "<matplotlib.image.AxesImage at 0x1325fb4e0>"
      ]
     },
     "execution_count": 774,
     "metadata": {},
     "output_type": "execute_result"
    },
    {
     "data": {
      "image/png": "[encoded data removed]",
      "text/plain": [
       "<Figure size 432x288 with 1 Axes>"
      ]
     },
     "metadata": {
      "needs_background": "light"
     },
     "output_type": "display_data"
    }
   ],
   "source": [
    "plt.imshow(cloth_img)"
   ]
  },
  {
   "cell_type": "code",
   "execution_count": null,
   "metadata": {},
   "outputs": [],
   "source": []
  },
  {
   "cell_type": "code",
   "execution_count": null,
   "metadata": {},
   "outputs": [],
   "source": []
  },
  {
   "cell_type": "code",
   "execution_count": null,
   "metadata": {},
   "outputs": [],
   "source": []
  }
 ],
 "metadata": {
  "kernelspec": {
   "display_name": "Python 3",
   "language": "python",
   "name": "python3"
  },
  "language_info": {
   "codemirror_mode": {
    "name": "ipython",
    "version": 3
   },
   "file_extension": ".py",
   "mimetype": "text/x-python",
   "name": "python",
   "nbconvert_exporter": "python",
   "pygments_lexer": "ipython3",
   "version": "3.7.3"
  }
 },
 "nbformat": 4,
 "nbformat_minor": 2
}
